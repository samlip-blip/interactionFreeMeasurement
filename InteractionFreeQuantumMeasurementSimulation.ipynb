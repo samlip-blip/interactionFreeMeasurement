{
 "cells": [
  {
   "cell_type": "markdown",
   "id": "b0b1e2a7-d52b-4f0c-8fa9-1889b0b7255d",
   "metadata": {},
   "source": [
    "# Interaction-Free Quantum Measurement Simulation in Qiskit"
   ]
  },
  {
   "cell_type": "markdown",
   "id": "5106f375-ad0c-4c6b-ad8d-8b812274d840",
   "metadata": {},
   "source": [
    "Interaction-free measurement is a fascinating quantum phenomenon where you can detect an object without a photon physically interacting with it. This is based on the Elitzur-Vaidman bomb tester thought experiment. Here's a Qiskit implementation that simulates this effect."
   ]
  },
  {
   "cell_type": "code",
   "execution_count": 1,
   "id": "7c3faa5a-a88b-4bea-8ac1-0d79da88f145",
   "metadata": {},
   "outputs": [
    {
     "name": "stderr",
     "output_type": "stream",
     "text": [
      "C:\\Users\\slipo\\anaconda3\\envs\\old_qiskit\\lib\\site-packages\\qiskit\\circuit\\equivalence.py:18: DeprecationWarning: The retworkx package is deprecated and has been renamed to rustworkx. Rustworkx is a drop-in replacement and can be used by replacing `import retworkx` with import `rustworkx`. \n",
      "  import retworkx as rx\n",
      "C:\\Users\\slipo\\anaconda3\\envs\\old_qiskit\\lib\\site-packages\\qiskit\\version.py:20: DeprecationWarning: pkg_resources is deprecated as an API. See https://setuptools.pypa.io/en/latest/pkg_resources.html\n",
      "  import pkg_resources\n"
     ]
    },
    {
     "name": "stdout",
     "output_type": "stream",
     "text": [
      "0.18.1\n"
     ]
    }
   ],
   "source": [
    "import qiskit\n",
    "print(qiskit.version.get_version_info())"
   ]
  },
  {
   "cell_type": "markdown",
   "id": "03d5a087-7b2c-46d1-ad4d-a564163dc9bf",
   "metadata": {},
   "source": [
    "# A Little Background"
   ]
  },
  {
   "cell_type": "markdown",
   "id": "e1b41eea-5c47-48bd-8870-b0d74a9fd7a0",
   "metadata": {},
   "source": [
    "__Interaction-Free Measurement (IFM)__ is a quantum trick that lets you figure out “is something there?” without ever touching it. \n",
    "\n",
    "Imagine a single particle—say, a photon—approaching a fork in the road that splits it into two paths, A and B. In quantum land, the photon travels both paths at once like a little wave.\n",
    "\n",
    "If both paths are clear, the two wave-parts reunite at the end and interfere so that the photon always shows up at Detector 1.\n",
    "\n",
    "Now hide a super-sensitive bomb in path B that explodes if it ever “feels” a photon. There are three possible outcomes:\n",
    "\n",
    "Photon took path B → bomb explodes (you know it was there, but too late).\n",
    "\n",
    "Photon took path A → nothing hits the bomb, so no interference happens at the end. The photon then has a 50/50 shot of going to Detector 1 or Detector 2. If it shows up at Detector 2, you now know the bomb is in B—and crucially, it never went off, so no photon ever hit it\n",
    "\n",
    "Photon took path B but somehow didn’t explode the bomb (extremely unlikely in a perfect device).\n",
    "\n",
    "Detecting the photon at Detector 2 is your “interaction-free” clue: you’ve learned the bomb’s there without setting it off.\n",
    "\n",
    "__Why this matters__: it flips our intuition—normally you have to “touch” something to detect it. IFM underpins ideas like counterfactual computation (doing calculations without running the computer!) and low-damage imaging techniques where you don’t want to blast delicate samples\n",
    "\n",
    "__References__:\n",
    "\n",
    "https://en.wikipedia.org/wiki/Interaction-free_measurement\n",
    "\n",
    "https://physics.illinois.edu/people/Kwiat/interaction-free-measurements"
   ]
  },
  {
   "cell_type": "markdown",
   "id": "ea9250bf-fcd2-4483-8815-8374b92e785f",
   "metadata": {},
   "source": [
    "## Explanation:\n",
    "\n",
    "1. **Circuit Setup**: We create a simple circuit with one qubit that represents our photon's state.\n",
    "\n",
    "2. **Superposition**: The Hadamard gate puts the qubit in superposition (|0⟩ + |1⟩)/√2.\n",
    "\n",
    "3. **Obstacle Simulation**: \n",
    "   - If an obstacle is present, the |1⟩ state would be absorbed (we simulate this with a measurement)\n",
    "   - The |0⟩ state passes undisturbed\n",
    "   - In a real experiment, we'd only consider trials where no absorption occurred\n",
    "\n",
    "4. **Second Hadamard**: This interferes the possible states.\n",
    "\n",
    "5. **Measurement**: The final measurement shows:\n",
    "   - With obstacle: More likely to measure |1⟩ (indicating the obstacle's presence without direct interaction)\n",
    "   - Without obstacle: Always measures |0⟩\n",
    "\n",
    "## Interpretation of Results:\n",
    "- When the obstacle is present, there's a 25% chance to detect its presence without interaction (showing as |1⟩ in the final measurement)\n",
    "- 25% of runs will have the photon absorbed (which we discard in a real experiment)\n",
    "- 50% will show |0⟩ (no information)\n",
    "- Without the obstacle, you always get |0⟩\n",
    "\n",
    "This demonstrates the core idea of interaction-free measurement - gaining information about an object without direct interaction in a subset of cases."
   ]
  },
  {
   "cell_type": "code",
   "execution_count": 5,
   "id": "eb871a2b-9476-4010-9fc0-b1bd6380a8af",
   "metadata": {},
   "outputs": [
    {
     "name": "stdout",
     "output_type": "stream",
     "text": [
      "With Obstacle Circuit display:\n",
      "     ┌───┐┌─┐┌───┐┌─┐\n",
      "q_0: ┤ H ├┤M├┤ H ├┤M├\n",
      "     └───┘└╥┘└───┘└╥┘\n",
      "c: 1/══════╩═══════╩═\n",
      "           0       0 \n",
      "Without Obstacle Circuit display:\n",
      "     ┌───┐┌───┐┌─┐\n",
      "q_0: ┤ H ├┤ H ├┤M├\n",
      "     └───┘└───┘└╥┘\n",
      "c: 1/═══════════╩═\n",
      "                0 \n",
      "With obstacle present: {'0': 498, '1': 502}\n",
      "Without obstacle: {'0': 1000}\n"
     ]
    },
    {
     "data": {
      "image/png": "[encoded data removed]",
      "text/plain": [
       "<Figure size 800x600 with 1 Axes>"
      ]
     },
     "metadata": {},
     "output_type": "display_data"
    }
   ],
   "source": [
    "from qiskit import QuantumCircuit, Aer, execute\n",
    "from qiskit.visualization import plot_histogram\n",
    "import matplotlib.pyplot as plt\n",
    "\n",
    "def interaction_free_measurement(obstacle_present=True):\n",
    "    \"\"\"\n",
    "    Simulates interaction-free measurement.\n",
    "    \n",
    "    Args:\n",
    "        obstacle_present (bool): Whether the absorbing obstacle is present\n",
    "    \n",
    "    Returns:\n",
    "        dict: Measurement results\n",
    "    \"\"\"\n",
    "    # Create a quantum circuit with 1 qubit and 1 classical bit\n",
    "    qc = QuantumCircuit(1, 1)\n",
    "    \n",
    "    # Apply Hadamard gate to create superposition\n",
    "    qc.h(0)\n",
    "    \n",
    "    # If obstacle is present, it would absorb the |1> state\n",
    "    # We simulate this with a measurement that destroys the state if it's |1>\n",
    "    if obstacle_present:\n",
    "        # Measure in the computational basis\n",
    "        qc.measure(0, 0)\n",
    "        # If we measure |1>, the photon was absorbed (we discard these cases)\n",
    "        # If we measure |0>, we continue\n",
    "        # In a real experiment, we would post-select on not getting absorption\n",
    "        pass\n",
    "    \n",
    "    # Apply another Hadamard\n",
    "    qc.h(0)\n",
    "    \n",
    "    # Measure the final state\n",
    "    qc.measure(0, 0)\n",
    "    \n",
    "    # Simulate the circuit\n",
    "    simulator = Aer.get_backend('qasm_simulator')\n",
    "    result = execute(qc, simulator, shots=1000).result()\n",
    "    counts = result.get_counts(qc)\n",
    "    \n",
    "    return (counts, qc)\n",
    "\n",
    "# Run simulations for both cases\n",
    "counts_with_obstacle, qc = interaction_free_measurement(obstacle_present=True)\n",
    "#Display the circuit\n",
    "print(\"With Obstacle Circuit display:\")\n",
    "print(qc.draw())\n",
    "\n",
    "counts_without_obstacle, qc = interaction_free_measurement(obstacle_present=False)\n",
    "#Display the circuit\n",
    "print(\"Without Obstacle Circuit display:\")\n",
    "print(qc.draw())\n",
    "\n",
    "# Display results\n",
    "print(\"With obstacle present:\", counts_with_obstacle)\n",
    "print(\"Without obstacle:\", counts_without_obstacle)\n",
    "\n",
    "# Plot the results\n",
    "legend = ['With Obstacle', 'Without Obstacle']\n",
    "plot_histogram([counts_with_obstacle, counts_without_obstacle], legend=legend, figsize=(8, 6))\n",
    "plt.title('Interaction-Free Measurement Results')\n",
    "plt.show()"
   ]
  },
  {
   "cell_type": "markdown",
   "id": "eda59a23-0b6c-420c-9b1d-573ad6796614",
   "metadata": {},
   "source": [
    "# Mathematical Analysis"
   ]
  },
  {
   "cell_type": "markdown",
   "id": "edec06e1-cba0-438e-afc5-f5f74ea0a0da",
   "metadata": {},
   "source": [
    "## No‐Obstacle Case\n",
    "\n",
    "Start in \\|ψ₀⟩ = \\|0⟩.\n",
    "\n",
    "After the first H: \\|ψ₁⟩ = H\\|0⟩ = ( \\|0⟩ + \\|1⟩ )/√2\n",
    "\n",
    "After the second H: H\\|ψ₁⟩ = H[(\\|0⟩+ \\|1⟩)/√2] = \\|0⟩ (since H² = I)\n",
    "\n",
    "Final measurement in Z‐basis thus yields • P(0) = 1 • P(1) = 0"
   ]
  },
  {
   "cell_type": "markdown",
   "id": "51dc11ed-43f0-477a-9fb6-caf39c5bae73",
   "metadata": {},
   "source": [
    "## Obstacle‐Present Case\n",
    "\n",
    "Here the first Measure represents “photon‐absorbing if in state \\|1⟩,” modeled by a projective collapse.\n",
    "\n",
    "After H: \\|ψ₁⟩ = ( \\|0⟩ + \\|1⟩ )/√2\n",
    "\n",
    "First measurement (Z-basis)\n",
    "\n",
    "With probability ½: outcome = 1 ⇒ photon “absorbed.” The qubit collapses to \\|1⟩ (we’d normally discard these shots).\n",
    "\n",
    "With probability ½: outcome = 0 ⇒ no absorption. The qubit collapses to \\|0⟩ and continues.\n",
    "\n",
    "Second Hadamard, then final Measure – If collapsed to \\|0⟩: H\\|0⟩ = ( \\|0⟩ + \\|1⟩ )/√2 ⇒ P(0) = ½, P(1) = ½ – If (un‐discarded) collapsed to \\|1⟩: H\\|1⟩ = ( \\|0⟩ – \\|1⟩ )/√2 ⇒ P(0) = ½, P(1) = ½\n",
    "\n",
    "Combine branches Unconditional (i.e. including “absorbed” shots, if you kept measuring anyway): P(final = 0) = ½·½ + ½·½ = ½ P(final = 1) = ½·½ + ½·½ = ½\n",
    "\n",
    "If you post‐select on only the “no‐absorption” branch (the true IFM outcome): P(final = 0 | no‐absorb) = (½·½)/(½) = ½ P(final = 1 | no‐absorb) = (½·½)/(½) = ½"
   ]
  },
  {
   "cell_type": "markdown",
   "id": "51d0814f-4cdc-40ee-81ad-4effe9a23781",
   "metadata": {},
   "source": [
    "## What This Means Physically\n",
    "Without obstacle you always get “0.”\n",
    "\n",
    "With obstacle\n",
    "\n",
    "50 % of the time the photon is absorbed outright.\n",
    "\n",
    "Of the remaining 50 %, half land at “1” — these are interaction‐free detections.\n",
    "\n",
    "So the absolute probability to detect the obstacle without interaction is ¼."
   ]
  },
  {
   "cell_type": "markdown",
   "id": "e464e99b-a5b6-4d31-83f4-fc4bf18cc788",
   "metadata": {},
   "source": [
    "## Bottom line: \n",
    "\n",
    "- Ideal no-obstacle run → always “0.”\n",
    "- Ideal obstacle run → 50 % absorption, 25 % harmless “0,” 25 % interaction-free “1.”\n",
    "\n",
    "This matches the above counts (~0.5/0.5 with obstacle, 1/0 without), up to shot noise."
   ]
  },
  {
   "cell_type": "markdown",
   "id": "8e67525c-217e-4df3-a954-cc308abcc692",
   "metadata": {},
   "source": [
    "##  Some of real-world applications of interaction-free measurement:\n",
    "\n",
    "- __Low-damage imaging in electron microscopy__: By detecting specimens without directly scattering electrons off them, IFM can greatly reduce radiation damage to delicate biological or molecular samples during imaging.\n",
    "\n",
    "- __Counterfactual quantum communication__: Protocols based on IFM principles let two parties exchange bits of information without any physical particle traveling through the channel. First laboratory demonstrations appeared in 2017."
   ]
  },
  {
   "cell_type": "code",
   "execution_count": null,
   "id": "91b33dfe-c660-40f5-9204-90e125f65f95",
   "metadata": {},
   "outputs": [],
   "source": []
  }
 ],
 "metadata": {
  "kernelspec": {
   "display_name": "Python 3 (ipykernel)",
   "language": "python",
   "name": "python3"
  },
  "language_info": {
   "codemirror_mode": {
    "name": "ipython",
    "version": 3
   },
   "file_extension": ".py",
   "mimetype": "text/x-python",
   "name": "python",
   "nbconvert_exporter": "python",
   "pygments_lexer": "ipython3",
   "version": "3.9.21"
  }
 },
 "nbformat": 4,
 "nbformat_minor": 5
}
